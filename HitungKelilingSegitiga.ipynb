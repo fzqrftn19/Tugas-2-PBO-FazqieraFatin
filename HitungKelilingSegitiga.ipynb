{
  "nbformat": 4,
  "nbformat_minor": 0,
  "metadata": {
    "colab": {
      "provenance": [],
      "authorship_tag": "ABX9TyOyPqncYWAKV9iy1o/BiWk8",
      "include_colab_link": true
    },
    "kernelspec": {
      "name": "python3",
      "display_name": "Python 3"
    },
    "language_info": {
      "name": "python"
    }
  },
  "cells": [
    {
      "cell_type": "markdown",
      "metadata": {
        "id": "view-in-github",
        "colab_type": "text"
      },
      "source": [
        "<a href=\"https://colab.research.google.com/github/fzqrftn19/Tugas-2-PBO-FazqieraFatin/blob/main/HitungKelilingSegitiga.ipynb\" target=\"_parent\"><img src=\"https://colab.research.google.com/assets/colab-badge.svg\" alt=\"Open In Colab\"/></a>"
      ]
    },
    {
      "cell_type": "code",
      "execution_count": 4,
      "metadata": {
        "colab": {
          "base_uri": "https://localhost:8080/"
        },
        "id": "1HFPfmRwRYvj",
        "outputId": "00a46f8f-93e5-4cbb-ccfd-508fceebe1f8"
      },
      "outputs": [
        {
          "output_type": "stream",
          "name": "stdout",
          "text": [
            "Keliling Segitiga:  35\n"
          ]
        }
      ],
      "source": [
        "class HitungSegitiga:\n",
        "  def __init__(self,a,b,c):\n",
        "    self.a = a\n",
        "    self.b = b\n",
        "    self.c = c\n",
        "\n",
        "obj = HitungSegitiga(5, 1, 7)\n",
        "keliling = obj.a * obj.b * obj.c\n",
        "print(\"Keliling Segitiga: \", keliling)"
      ]
    }
  ]
}