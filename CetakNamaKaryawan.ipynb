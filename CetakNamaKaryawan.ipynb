{
  "nbformat": 4,
  "nbformat_minor": 0,
  "metadata": {
    "colab": {
      "provenance": [],
      "authorship_tag": "ABX9TyMm69/rDAqWV2QCXODp/loA",
      "include_colab_link": true
    },
    "kernelspec": {
      "name": "python3",
      "display_name": "Python 3"
    },
    "language_info": {
      "name": "python"
    }
  },
  "cells": [
    {
      "cell_type": "markdown",
      "metadata": {
        "id": "view-in-github",
        "colab_type": "text"
      },
      "source": [
        "<a href=\"https://colab.research.google.com/github/fzqrftn19/Tugas-2-PBO-FazqieraFatin/blob/main/CetakNamaKaryawan.ipynb\" target=\"_parent\"><img src=\"https://colab.research.google.com/assets/colab-badge.svg\" alt=\"Open In Colab\"/></a>"
      ]
    },
    {
      "cell_type": "code",
      "execution_count": 5,
      "metadata": {
        "colab": {
          "base_uri": "https://localhost:8080/"
        },
        "id": "nbqnDTyCOVKi",
        "outputId": "c8963d8d-efdc-431b-b449-32dbdf912e8e"
      },
      "outputs": [
        {
          "output_type": "stream",
          "name": "stdout",
          "text": [
            "ID     : 14586\n",
            "Nama   : Lina\n",
            "Agensi : Administrasi\n"
          ]
        }
      ],
      "source": [
        "class CetakNamaKaryawan:\n",
        "    def __init__(self, id, nama, agensi):\n",
        "        self.id = id\n",
        "        self.nama = nama\n",
        "        self.agensi = agensi\n",
        "\n",
        "    def print_identitas(self):\n",
        "        print(\"ID     :\", self.id)\n",
        "        print(\"Nama   :\", self.nama)\n",
        "        print(\"Agensi :\", self.agensi)\n",
        "\n",
        "obj = CetakNamaKaryawan(14586, \"Lina\", \"Administrasi\")\n",
        "obj.print_identitas()\n"
      ]
    },
    {
      "cell_type": "markdown",
      "source": [],
      "metadata": {
        "id": "HfUrQaf3OaU2"
      }
    }
  ]
}