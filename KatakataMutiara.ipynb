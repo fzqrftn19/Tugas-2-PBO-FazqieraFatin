{
  "nbformat": 4,
  "nbformat_minor": 0,
  "metadata": {
    "colab": {
      "provenance": [],
      "authorship_tag": "ABX9TyMTzJQMMwpQxvcyyJavqBzH",
      "include_colab_link": true
    },
    "kernelspec": {
      "name": "python3",
      "display_name": "Python 3"
    },
    "language_info": {
      "name": "python"
    }
  },
  "cells": [
    {
      "cell_type": "markdown",
      "metadata": {
        "id": "view-in-github",
        "colab_type": "text"
      },
      "source": [
        "<a href=\"https://colab.research.google.com/github/fzqrftn19/Tugas-2-PBO-FazqieraFatin/blob/main/KatakataMutiara.ipynb\" target=\"_parent\"><img src=\"https://colab.research.google.com/assets/colab-badge.svg\" alt=\"Open In Colab\"/></a>"
      ]
    },
    {
      "cell_type": "code",
      "execution_count": 4,
      "metadata": {
        "colab": {
          "base_uri": "https://localhost:8080/"
        },
        "id": "__Ap-haZSsS0",
        "outputId": "8c3b2a1d-ffa0-49d3-bbbc-a7293c3c6367"
      },
      "outputs": [
        {
          "output_type": "stream",
          "name": "stdout",
          "text": [
            "Hari ini sulit, besok mungkin lebih sulit, tetapi lusa akan menjadi indah\n",
            "Hari ini sulit, besok mungkin lebih sulit, tetapi lusa akan menjadi indah\n",
            "Hari ini sulit, besok mungkin lebih sulit, tetapi lusa akan menjadi indah\n",
            "Hari ini sulit, besok mungkin lebih sulit, tetapi lusa akan menjadi indah\n",
            "Hari ini sulit, besok mungkin lebih sulit, tetapi lusa akan menjadi indah\n"
          ]
        }
      ],
      "source": [
        "class CetakKataMutiara:\n",
        "    def __init__(self,katamutiara,jumlah):\n",
        "      self.katamutiara = katamutiara\n",
        "      self.jumlah = jumlah\n",
        "\n",
        "    def print_mutiara(self):\n",
        "      for i in range(self.jumlah):\n",
        "        print(self.katamutiara)\n",
        "\n",
        "obj = CetakKataMutiara(\"Hari ini sulit, besok mungkin lebih sulit, tetapi lusa akan menjadi indah\",5)\n",
        "obj.print_mutiara()"
      ]
    }
  ]
}