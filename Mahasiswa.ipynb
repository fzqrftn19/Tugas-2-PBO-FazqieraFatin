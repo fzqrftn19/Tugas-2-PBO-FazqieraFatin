{
  "nbformat": 4,
  "nbformat_minor": 0,
  "metadata": {
    "colab": {
      "provenance": [],
      "authorship_tag": "ABX9TyOdpazpAO16/5RwxK3qLl4s",
      "include_colab_link": true
    },
    "kernelspec": {
      "name": "python3",
      "display_name": "Python 3"
    },
    "language_info": {
      "name": "python"
    }
  },
  "cells": [
    {
      "cell_type": "markdown",
      "metadata": {
        "id": "view-in-github",
        "colab_type": "text"
      },
      "source": [
        "<a href=\"https://colab.research.google.com/github/fzqrftn19/Tugas-2-PBO-FazqieraFatin/blob/main/Mahasiswa.ipynb\" target=\"_parent\"><img src=\"https://colab.research.google.com/assets/colab-badge.svg\" alt=\"Open In Colab\"/></a>"
      ]
    },
    {
      "cell_type": "code",
      "execution_count": 1,
      "metadata": {
        "colab": {
          "base_uri": "https://localhost:8080/"
        },
        "id": "nbqnDTyCOVKi",
        "outputId": "cad02139-0446-450a-e2ea-c9ef0155c5c0"
      },
      "outputs": [
        {
          "output_type": "stream",
          "name": "stdout",
          "text": [
            "Nama    : Aldi\n",
            "NIM     : 22041021\n",
            "Jurusan : Informatika\n"
          ]
        }
      ],
      "source": [
        "class Mahasiswa:\n",
        "    def __init__(self, nama, nim, jurusan):\n",
        "        self.nama = nama\n",
        "        self.nim = nim\n",
        "        self.jurusan = jurusan\n",
        "\n",
        "    def tampilkan_info(self):\n",
        "        print(f\"Nama    : {self.nama}\")\n",
        "        print(f\"NIM     : {self.nim}\")\n",
        "        print(f\"Jurusan : {self.jurusan}\")\n",
        "\n",
        "# Membuat objek\n",
        "mhs1 = Mahasiswa(\"Aldi\", \"22041021\", \"Informatika\")\n",
        "mhs1.tampilkan_info()\n"
      ]
    },
    {
      "cell_type": "markdown",
      "source": [],
      "metadata": {
        "id": "HfUrQaf3OaU2"
      }
    }
  ]
}