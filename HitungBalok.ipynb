{
  "nbformat": 4,
  "nbformat_minor": 0,
  "metadata": {
    "colab": {
      "provenance": [],
      "authorship_tag": "ABX9TyPNXHi42SLHe6GG3VMWjXhF",
      "include_colab_link": true
    },
    "kernelspec": {
      "name": "python3",
      "display_name": "Python 3"
    },
    "language_info": {
      "name": "python"
    }
  },
  "cells": [
    {
      "cell_type": "markdown",
      "metadata": {
        "id": "view-in-github",
        "colab_type": "text"
      },
      "source": [
        "<a href=\"https://colab.research.google.com/github/fzqrftn19/Tugas-2-PBO-FazqieraFatin/blob/main/HitungBalok.ipynb\" target=\"_parent\"><img src=\"https://colab.research.google.com/assets/colab-badge.svg\" alt=\"Open In Colab\"/></a>"
      ]
    },
    {
      "cell_type": "code",
      "execution_count": 1,
      "metadata": {
        "colab": {
          "base_uri": "https://localhost:8080/"
        },
        "id": "1HFPfmRwRYvj",
        "outputId": "bf8fc034-9ebb-4cd7-f73c-37321075e6a5"
      },
      "outputs": [
        {
          "output_type": "stream",
          "name": "stdout",
          "text": [
            "Volume Balok: 24\n"
          ]
        }
      ],
      "source": [
        "class HitungBalok:\n",
        "    def __init__(self, panjang, lebar, tinggi):\n",
        "        self.panjang = panjang\n",
        "        self.lebar = lebar\n",
        "        self.tinggi = tinggi\n",
        "\n",
        "# Membuat objek\n",
        "obj = HitungBalok(4, 3, 2)\n",
        "volume = obj.panjang * obj.lebar * obj.tinggi\n",
        "\n",
        "print(\"Volume Balok:\", volume)"
      ]
    }
  ]
}