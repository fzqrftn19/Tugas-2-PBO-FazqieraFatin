{
  "nbformat": 4,
  "nbformat_minor": 0,
  "metadata": {
    "colab": {
      "provenance": [],
      "authorship_tag": "ABX9TyNESP4DNJAhLYZJ9w7yDmTZ",
      "include_colab_link": true
    },
    "kernelspec": {
      "name": "python3",
      "display_name": "Python 3"
    },
    "language_info": {
      "name": "python"
    }
  },
  "cells": [
    {
      "cell_type": "markdown",
      "metadata": {
        "id": "view-in-github",
        "colab_type": "text"
      },
      "source": [
        "<a href=\"https://colab.research.google.com/github/fzqrftn19/Tugas-2-PBO-FazqieraFatin/blob/main/handphone.ipynb\" target=\"_parent\"><img src=\"https://colab.research.google.com/assets/colab-badge.svg\" alt=\"Open In Colab\"/></a>"
      ]
    },
    {
      "cell_type": "code",
      "execution_count": null,
      "metadata": {
        "colab": {
          "base_uri": "https://localhost:8080/"
        },
        "id": "SP0Gosz_34_i",
        "outputId": "13691a3f-e1ba-4224-ac12-3ebd20034612"
      },
      "outputs": [
        {
          "output_type": "stream",
          "name": "stdout",
          "text": [
            "Merk: Samsung, Harga: Rp3000000\n"
          ]
        }
      ],
      "source": [
        "class Handphone:\n",
        "    def __init__(self, merk, harga):\n",
        "        self.merk = merk\n",
        "        self.harga = harga\n",
        "\n",
        "    def info_hp(self):\n",
        "        print(f\"Merk: {self.merk}, Harga: Rp{self.harga}\")\n",
        "\n",
        "hp1 = Handphone(\"Samsung\", 3000000)\n",
        "hp1.info_hp()"
      ]
    }
  ]
}